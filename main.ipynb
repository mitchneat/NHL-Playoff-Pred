{
 "cells": [
  {
   "cell_type": "code",
   "execution_count": 4,
   "id": "03eade35",
   "metadata": {},
   "outputs": [],
   "source": [
    "import pandas as pd\n",
    "\n",
    "\n",
    "# read in data\n",
    "games = pd.read_csv(\"./Data/game.csv\")\n",
    "team_info = pd.read_csv(\"./Data/team_info.csv\")\n",
    "playoffs = pd.read_csv(\"./Data/nhlplayoffs.csv\")"
   ]
  },
  {
   "cell_type": "code",
   "execution_count": null,
   "id": "cc7752aa",
   "metadata": {},
   "outputs": [
    {
     "data": {
      "text/plain": [
       "array(['New Jersey Devils', 'Philadelphia Flyers', 'Los Angeles Kings',\n",
       "       'Tampa Bay Lightning', 'Boston Bruins', 'New York Rangers',\n",
       "       'Pittsburgh Penguins', 'Detroit Red Wings', 'San Jose Sharks',\n",
       "       'Nashville Predators', 'Vancouver Canucks', 'Chicago Blackhawks',\n",
       "       'Ottawa Senators', 'Montreal Canadiens', 'Minnesota Wild',\n",
       "       'Washington Capitals', 'St. Louis Blues', 'Anaheim Ducks',\n",
       "       'Phoenix Coyotes', 'New York Islanders', 'Toronto Maple Leafs',\n",
       "       'Florida Panthers', 'Buffalo Sabres', 'Calgary Flames',\n",
       "       'Colorado Avalanche', 'Dallas Stars', 'Columbus Blue Jackets',\n",
       "       'Winnipeg Jets', 'Edmonton Oilers', 'Vegas Golden Knights',\n",
       "       'Carolina Hurricanes', 'Arizona Coyotes', 'Atlanta Thrashers'],\n",
       "      dtype=object)"
      ]
     },
     "execution_count": 5,
     "metadata": {},
     "output_type": "execute_result"
    }
   ],
   "source": [
    "# checking team-info addition\n",
    "team_info['playoff-teams-name'].unique()\n",
    "\n",
    "# cut playoffs where year before 2001"
   ]
  }
 ],
 "metadata": {
  "kernelspec": {
   "display_name": "base",
   "language": "python",
   "name": "python3"
  },
  "language_info": {
   "codemirror_mode": {
    "name": "ipython",
    "version": 3
   },
   "file_extension": ".py",
   "mimetype": "text/x-python",
   "name": "python",
   "nbconvert_exporter": "python",
   "pygments_lexer": "ipython3",
   "version": "3.11.7"
  }
 },
 "nbformat": 4,
 "nbformat_minor": 5
}
